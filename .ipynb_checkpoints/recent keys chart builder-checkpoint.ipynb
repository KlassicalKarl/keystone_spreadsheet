{
 "cells": [
  {
   "cell_type": "code",
   "execution_count": 1,
   "id": "954ea5ea",
   "metadata": {},
   "outputs": [],
   "source": [
    "import requests\n",
    "import json\n",
    "import pandas as pd\n",
    "\n",
    "from urllib.request import urlopen"
   ]
  },
  {
   "cell_type": "code",
   "execution_count": 2,
   "id": "5f2e2863",
   "metadata": {},
   "outputs": [],
   "source": [
    "tich_toons = ['Doofydoodler', 'Brindar', 'Whizzletit', 'Whizzletoot', 'Mostpaster', 'Tauryy']\n",
    "column_list = ['character', 'realm', 'date', 'time', 'dungeon', 'short_name', 'mythic_level', 'upgrade', 'score', 'clear_time', 'clear_time_ms', 'par_time_ms', 'affix_1', 'affix_2', 'affix_3', 'affix_4', 'url']"
   ]
  },
  {
   "cell_type": "code",
   "execution_count": 7,
   "id": "9cfe0bcd",
   "metadata": {},
   "outputs": [],
   "source": [
    "#gets current CSV for each character and adds any new entries from the RaiderIO API.\n",
    "def character_data(character_name, realm):\n",
    "    if realm == 'Tich': realm = 'Tichondrius'\n",
    "    existing_df = pd.read_csv(f\"{character_name}_{realm}.csv\")\n",
    "    #display(existing_df)\n",
    "    global column_list\n",
    "    url = f\"https://raider.io/api/v1/characters/profile?region=us&realm={realm}&name={character_name}&fields=mythic_plus_recent_runs\"\n",
    "    r = requests.get(url)\n",
    "    data = r.json()\n",
    "    df = pd.json_normalize(data, record_path = ['mythic_plus_recent_runs'])\n",
    "    #display(df)\n",
    "    df['date'] = df.completed_at.str[0:10]\n",
    "    df['time'] = df['completed_at'].str[11:19]\n",
    "    clear_time = []\n",
    "    for ms in df['clear_time_ms']:\n",
    "        ms = int(ms)\n",
    "        seconds=(ms/1000)%60\n",
    "        seconds = int(seconds)\n",
    "        minutes=(ms/(1000*60))%60\n",
    "        minutes = int(minutes)\n",
    "        hours=(ms/(1000*60*60))%24\n",
    "        output = (\"%02d:%02d:%02d\" % (hours, minutes, seconds))\n",
    "        #print(output)\n",
    "        clear_time.append(output)\n",
    "    #print(clear_time)\n",
    "    df['clear_time'] = clear_time\n",
    "    df['character'] = character_name\n",
    "    df['realm'] = realm\n",
    "    df = pd.concat([df.drop(['affixes'], axis=1), df['affixes'].apply(pd.Series)], axis=1)\n",
    "    for i in range(4):\n",
    "        df = pd.concat([df.drop([i], axis=1), df[i].apply(pd.Series)], axis=1)\n",
    "        df = df.drop(['icon'], axis=1)\n",
    "        df = df.drop(['wowhead_url'], axis=1)\n",
    "        df = df.drop(['description'], axis=1)\n",
    "        df = df.drop(['id'], axis=1)\n",
    "        df = df.rename(columns={'name': 'affix_'+str(i+1)})\n",
    "    df = df.drop(['completed_at'], axis=1)\n",
    "    df = df.drop(['map_challenge_mode_id'], axis=1)\n",
    "    df = df.drop(['zone_id'], axis=1)\n",
    "    df = df.rename(columns={\"num_keystone_upgrades\": \"upgrade\"})\n",
    "    df = df[column_list]\n",
    "    new = pd.concat([existing_df, df], ignore_index=True)\n",
    "    new.loc[new.mythic_level <10, 'affix_4'] = 'not_active'\n",
    "    new.loc[new.mythic_level <7, 'affix_3'] = 'not_active'\n",
    "    new.loc[new.mythic_level <4, 'affix_2'] = 'not_active'\n",
    "    #display(new)\n",
    "    new.drop_duplicates(inplace=True, keep='first')\n",
    "    #display(new)\n",
    "    new.to_csv(f\"{character_name}_{realm}.csv\", index=False, header=True)\n",
    "    \n",
    "for toon in tich_toons:\n",
    "    character_data(toon, 'Tich')\n",
    "character_data('Ater', 'Stormrage')\n",
    "character_data('Tauryy', 'Shattered-Halls')"
   ]
  },
  {
   "cell_type": "code",
   "execution_count": 4,
   "id": "4e34d3ac",
   "metadata": {},
   "outputs": [],
   "source": [
    "def create_header(character_name, realm):\n",
    "    if realm == 'Tich': realm = 'Tichondrius'\n",
    "    header = pd.DataFrame([], columns=column_list)\n",
    "    header.to_csv(f\"{character_name}_{realm}.csv\", index=False, header=True)\n",
    "\n",
    "#write initial CSV files for each character\n",
    "#for toon in tich_toons:\n",
    "#    create_header(toon, 'Tich')\n",
    "#create_header('Ater', 'Stormrage')\n",
    "#create_header('Tauryy', 'Shattered-Halls')"
   ]
  },
  {
   "cell_type": "code",
   "execution_count": 8,
   "id": "bd3ec26d",
   "metadata": {},
   "outputs": [],
   "source": [
    "#combine all data into one CSV\n",
    "def combine_data(character_name, realm):\n",
    "    if realm == 'Tich': realm = 'Tichondrius'\n",
    "    df = pd.read_csv(f\"{character_name}_{realm}.csv\")\n",
    "    df.to_csv('alldata.csv', mode='a', index=False, header=False)\n",
    "\n",
    "#write an empty csv file with the column names\n",
    "alldata_header = pd.DataFrame([], columns=column_list)\n",
    "alldata_header.to_csv(\"alldata.csv\", index=False, header=True)  \n",
    "\n",
    "#run function to add each character's current csv data to the csv of all data\n",
    "combine_data('Ater', 'Stormrage')\n",
    "combine_data('Tauryy', 'Shattered-Halls')\n",
    "for toon in tich_toons:\n",
    "    combine_data(toon, 'Tich')"
   ]
  },
  {
   "cell_type": "code",
   "execution_count": null,
   "id": "2170ad85",
   "metadata": {},
   "outputs": [],
   "source": []
  }
 ],
 "metadata": {
  "kernelspec": {
   "display_name": "Python 3 (ipykernel)",
   "language": "python",
   "name": "python3"
  },
  "language_info": {
   "codemirror_mode": {
    "name": "ipython",
    "version": 3
   },
   "file_extension": ".py",
   "mimetype": "text/x-python",
   "name": "python",
   "nbconvert_exporter": "python",
   "pygments_lexer": "ipython3",
   "version": "3.9.7"
  }
 },
 "nbformat": 4,
 "nbformat_minor": 5
}
