{
 "cells": [
  {
   "cell_type": "code",
   "execution_count": 1,
   "id": "954ea5ea",
   "metadata": {},
   "outputs": [],
   "source": [
    "import requests\n",
    "import json\n",
    "import pandas as pd\n",
    "\n",
    "from urllib.request import urlopen"
   ]
  },
  {
   "cell_type": "code",
   "execution_count": 2,
   "id": "5f2e2863",
   "metadata": {},
   "outputs": [
    {
     "data": {
      "text/html": [
       "<div>\n",
       "<style scoped>\n",
       "    .dataframe tbody tr th:only-of-type {\n",
       "        vertical-align: middle;\n",
       "    }\n",
       "\n",
       "    .dataframe tbody tr th {\n",
       "        vertical-align: top;\n",
       "    }\n",
       "\n",
       "    .dataframe thead th {\n",
       "        text-align: right;\n",
       "    }\n",
       "</style>\n",
       "<table border=\"1\" class=\"dataframe\">\n",
       "  <thead>\n",
       "    <tr style=\"text-align: right;\">\n",
       "      <th></th>\n",
       "      <th>character</th>\n",
       "      <th>realm</th>\n",
       "      <th>date</th>\n",
       "      <th>time</th>\n",
       "      <th>dungeon</th>\n",
       "      <th>short_name</th>\n",
       "      <th>mythic_level</th>\n",
       "      <th>upgrade</th>\n",
       "      <th>score</th>\n",
       "      <th>clear_time</th>\n",
       "      <th>clear_time_ms</th>\n",
       "      <th>par_time_ms</th>\n",
       "      <th>affix_1</th>\n",
       "      <th>affix_2</th>\n",
       "      <th>affix_3</th>\n",
       "      <th>affix_4</th>\n",
       "      <th>url</th>\n",
       "    </tr>\n",
       "  </thead>\n",
       "  <tbody>\n",
       "  </tbody>\n",
       "</table>\n",
       "</div>"
      ],
      "text/plain": [
       "Empty DataFrame\n",
       "Columns: [character, realm, date, time, dungeon, short_name, mythic_level, upgrade, score, clear_time, clear_time_ms, par_time_ms, affix_1, affix_2, affix_3, affix_4, url]\n",
       "Index: []"
      ]
     },
     "metadata": {},
     "output_type": "display_data"
    }
   ],
   "source": [
    "tich_toons = ['Doofydoodler', 'Brindar', 'Whizzletit', 'Whizzletoot', 'Mostpaster', 'Tauryy']\n",
    "column_list = ['character', 'realm', 'date', 'time', 'dungeon', 'short_name', 'mythic_level', 'upgrade', 'score', 'clear_time', 'clear_time_ms', 'par_time_ms', 'affix_1', 'affix_2', 'affix_3', 'affix_4', 'url']\n",
    "recent_keys_df = pd.DataFrame([], columns=column_list)\n",
    "display(recent_keys_df)"
   ]
  },
  {
   "cell_type": "code",
   "execution_count": 3,
   "id": "9cfe0bcd",
   "metadata": {},
   "outputs": [],
   "source": [
    "#adds the character and realm columns to each entry of the data frame, also converts clear_time_ms to minutes and seconds.\n",
    "def character_data(character_name, realm):\n",
    "    if realm == 'Tich': realm = 'Tichondrius'\n",
    "    global recent_keys_df\n",
    "    url = f\"https://raider.io/api/v1/characters/profile?region=us&realm={realm}&name={character_name}&fields=mythic_plus_recent_runs\"\n",
    "    r = requests.get(url)\n",
    "    data = r.json()\n",
    "    df = pd.json_normalize(data, record_path = ['mythic_plus_recent_runs'])\n",
    "    df['date'] = df.completed_at.str[0:10]\n",
    "    df['time'] = df['completed_at'].str[11:19]\n",
    "    clear_time = []\n",
    "    for ms in df['clear_time_ms']:\n",
    "        ms = int(ms)\n",
    "        seconds=(ms/1000)%60\n",
    "        seconds = int(seconds)\n",
    "        minutes=(ms/(1000*60))%60\n",
    "        minutes = int(minutes)\n",
    "        hours=(ms/(1000*60*60))%24\n",
    "        output = (\"%d:%d:%d\" % (hours, minutes, seconds))\n",
    "        #print(output)\n",
    "        clear_time.append(output)\n",
    "    #print(clear_time)\n",
    "    df['clear_time'] = clear_time\n",
    "    df['character'] = character_name\n",
    "    df['realm'] = realm\n",
    "    df = pd.concat([df.drop(['affixes'], axis=1), df['affixes'].apply(pd.Series)], axis=1)\n",
    "    for i in range(4):\n",
    "        df = pd.concat([df.drop([i], axis=1), df[i].apply(pd.Series)], axis=1)\n",
    "        df = df.drop(['icon'], axis=1)\n",
    "        df = df.drop(['wowhead_url'], axis=1)\n",
    "        df = df.drop(['description'], axis=1)\n",
    "        df = df.drop(['id'], axis=1)\n",
    "        df = df.rename(columns={'name': 'affix_'+str(i+1)})\n",
    "    df = df.drop(['completed_at'], axis=1)\n",
    "    df = df.drop(['map_challenge_mode_id'], axis=1)\n",
    "    df = df.drop(['zone_id'], axis=1)\n",
    "    df = df.rename(columns={\"num_keystone_upgrades\": \"upgrade\"})\n",
    "    recent_keys_df = recent_keys_df.append(df, ignore_index=True)\n",
    "    recent_keys_df = recent_keys_df.drop_duplicates(keep='last')"
   ]
  },
  {
   "cell_type": "code",
   "execution_count": 4,
   "id": "6d991d43",
   "metadata": {},
   "outputs": [],
   "source": [
    "for toon in tich_toons:\n",
    "    character_data(toon, 'Tich')\n",
    "character_data('Ater', 'Stormrage')\n",
    "character_data('Tauryy', 'Shattered-Halls')\n",
    "recent_keys_df.to_csv('allkeys.csv', index=False)\n",
    "display(recent_keys_df)"
   ]
  },
  {
   "cell_type": "code",
   "execution_count": null,
   "id": "8377c1c5",
   "metadata": {},
   "outputs": [],
   "source": []
  },
  {
   "cell_type": "code",
   "execution_count": null,
   "id": "cc6ffecd",
   "metadata": {},
   "outputs": [],
   "source": []
  }
 ],
 "metadata": {
  "kernelspec": {
   "display_name": "Python 3 (ipykernel)",
   "language": "python",
   "name": "python3"
  },
  "language_info": {
   "codemirror_mode": {
    "name": "ipython",
    "version": 3
   },
   "file_extension": ".py",
   "mimetype": "text/x-python",
   "name": "python",
   "nbconvert_exporter": "python",
   "pygments_lexer": "ipython3",
   "version": "3.9.7"
  }
 },
 "nbformat": 4,
 "nbformat_minor": 5
}
